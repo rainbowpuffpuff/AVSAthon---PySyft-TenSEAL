{
  "nbformat": 4,
  "nbformat_minor": 0,
  "metadata": {
    "colab": {
      "provenance": []
    },
    "kernelspec": {
      "name": "python3",
      "display_name": "Python 3"
    },
    "language_info": {
      "name": "python"
    }
  },
  "cells": [
    {
      "cell_type": "markdown",
      "source": [
        "# Code\n"
      ],
      "metadata": {
        "id": "CTO_ggwL_NtT"
      }
    },
    {
      "cell_type": "markdown",
      "source": [
        "## Part 1: Dependencies"
      ],
      "metadata": {
        "id": "uQZrB__m1Zct"
      }
    },
    {
      "cell_type": "code",
      "execution_count": null,
      "metadata": {
        "colab": {
          "base_uri": "https://localhost:8080/",
          "height": 1000
        },
        "id": "c8hmZC0MzQmm",
        "outputId": "0f1a1a23-83fd-4ccc-b11e-4a0cc142c993"
      },
      "outputs": [
        {
          "output_type": "stream",
          "name": "stdout",
          "text": [
            "Collecting syft==0.9.0\n",
            "  Downloading syft-0.9.0-py2.py3-none-any.whl.metadata (15 kB)\n",
            "Requirement already satisfied: setuptools in /usr/local/lib/python3.10/dist-packages (from syft==0.9.0) (75.1.0)\n",
            "Collecting bcrypt==4.1.2 (from syft==0.9.0)\n",
            "  Downloading bcrypt-4.1.2-cp39-abi3-manylinux_2_28_x86_64.whl.metadata (9.5 kB)\n",
            "Collecting boto3==1.34.56 (from syft==0.9.0)\n",
            "  Downloading boto3-1.34.56-py3-none-any.whl.metadata (6.6 kB)\n",
            "Collecting forbiddenfruit==0.1.4 (from syft==0.9.0)\n",
            "  Downloading forbiddenfruit-0.1.4.tar.gz (43 kB)\n",
            "\u001b[2K     \u001b[90m━━━━━━━━━━━━━━━━━━━━━━━━━━━━━━━━━━━━━━━━\u001b[0m \u001b[32m43.8/43.8 kB\u001b[0m \u001b[31m1.8 MB/s\u001b[0m eta \u001b[36m0:00:00\u001b[0m\n",
            "\u001b[?25h  Preparing metadata (setup.py) ... \u001b[?25l\u001b[?25hdone\n",
            "Requirement already satisfied: packaging>=23.0 in /usr/local/lib/python3.10/dist-packages (from syft==0.9.0) (24.1)\n",
            "Collecting pyarrow==15.0.0 (from syft==0.9.0)\n",
            "  Downloading pyarrow-15.0.0-cp310-cp310-manylinux_2_28_x86_64.whl.metadata (3.0 kB)\n",
            "Collecting pycapnp==2.0.0 (from syft==0.9.0)\n",
            "  Downloading pycapnp-2.0.0-cp310-cp310-manylinux_2_17_x86_64.manylinux2014_x86_64.whl.metadata (21 kB)\n",
            "Collecting pydantic==2.6.0 (from pydantic[email]==2.6.0->syft==0.9.0)\n",
            "  Downloading pydantic-2.6.0-py3-none-any.whl.metadata (81 kB)\n",
            "\u001b[2K     \u001b[90m━━━━━━━━━━━━━━━━━━━━━━━━━━━━━━━━━━━━━━━━\u001b[0m \u001b[32m81.8/81.8 kB\u001b[0m \u001b[31m2.2 MB/s\u001b[0m eta \u001b[36m0:00:00\u001b[0m\n",
            "\u001b[?25hCollecting pydantic-settings==2.2.1 (from syft==0.9.0)\n",
            "  Downloading pydantic_settings-2.2.1-py3-none-any.whl.metadata (3.1 kB)\n",
            "Collecting pymongo==4.6.3 (from syft==0.9.0)\n",
            "  Downloading pymongo-4.6.3-cp310-cp310-manylinux_2_17_x86_64.manylinux2014_x86_64.whl.metadata (22 kB)\n",
            "Collecting pynacl==1.5.0 (from syft==0.9.0)\n",
            "  Downloading PyNaCl-1.5.0-cp36-abi3-manylinux_2_17_x86_64.manylinux2014_x86_64.manylinux_2_24_x86_64.whl.metadata (8.6 kB)\n",
            "Requirement already satisfied: pyzmq<=25.1.1,>=23.2.1 in /usr/local/lib/python3.10/dist-packages (from syft==0.9.0) (24.0.1)\n",
            "Requirement already satisfied: requests==2.32.3 in /usr/local/lib/python3.10/dist-packages (from syft==0.9.0) (2.32.3)\n",
            "Collecting RestrictedPython==7.0 (from syft==0.9.0)\n",
            "  Downloading RestrictedPython-7.0-py3-none-any.whl.metadata (12 kB)\n",
            "Collecting result==0.16.1 (from syft==0.9.0)\n",
            "  Downloading result-0.16.1-py3-none-any.whl.metadata (13 kB)\n",
            "Collecting tqdm==4.66.4 (from syft==0.9.0)\n",
            "  Downloading tqdm-4.66.4-py3-none-any.whl.metadata (57 kB)\n",
            "\u001b[2K     \u001b[90m━━━━━━━━━━━━━━━━━━━━━━━━━━━━━━━━━━━━━━━━\u001b[0m \u001b[32m57.6/57.6 kB\u001b[0m \u001b[31m2.4 MB/s\u001b[0m eta \u001b[36m0:00:00\u001b[0m\n",
            "\u001b[?25hCollecting typeguard==4.1.5 (from syft==0.9.0)\n",
            "  Downloading typeguard-4.1.5-py3-none-any.whl.metadata (3.7 kB)\n",
            "Collecting typing-extensions==4.12.0 (from syft==0.9.0)\n",
            "  Downloading typing_extensions-4.12.0-py3-none-any.whl.metadata (3.0 kB)\n",
            "Collecting sherlock==0.4.1 (from sherlock[filelock]==0.4.1->syft==0.9.0)\n",
            "  Downloading sherlock-0.4.1-py3-none-any.whl.metadata (8.9 kB)\n",
            "Collecting uvicorn==0.30.0 (from uvicorn[standard]==0.30.0->syft==0.9.0)\n",
            "  Downloading uvicorn-0.30.0-py3-none-any.whl.metadata (6.3 kB)\n",
            "Collecting markdown==3.5.2 (from syft==0.9.0)\n",
            "  Downloading Markdown-3.5.2-py3-none-any.whl.metadata (7.0 kB)\n",
            "Collecting fastapi==0.111.0 (from syft==0.9.0)\n",
            "  Downloading fastapi-0.111.0-py3-none-any.whl.metadata (25 kB)\n",
            "Collecting psutil==6.0.0 (from syft==0.9.0)\n",
            "  Downloading psutil-6.0.0-cp36-abi3-manylinux_2_12_x86_64.manylinux2010_x86_64.manylinux_2_17_x86_64.manylinux2014_x86_64.whl.metadata (21 kB)\n",
            "Collecting itables==1.7.1 (from syft==0.9.0)\n",
            "  Downloading itables-1.7.1-py3-none-any.whl.metadata (6.2 kB)\n",
            "Requirement already satisfied: argon2-cffi==23.1.0 in /usr/local/lib/python3.10/dist-packages (from syft==0.9.0) (23.1.0)\n",
            "Requirement already satisfied: matplotlib<3.9.1,>=3.7.1 in /usr/local/lib/python3.10/dist-packages (from syft==0.9.0) (3.7.1)\n",
            "Requirement already satisfied: pandas==2.2.2 in /usr/local/lib/python3.10/dist-packages (from syft==0.9.0) (2.2.2)\n",
            "Collecting docker==7.1.0 (from syft==0.9.0)\n",
            "  Downloading docker-7.1.0-py3-none-any.whl.metadata (3.8 kB)\n",
            "Collecting kr8s==0.13.5 (from syft==0.9.0)\n",
            "  Downloading kr8s-0.13.5-py3-none-any.whl.metadata (6.4 kB)\n",
            "Collecting PyYAML==6.0.1 (from syft==0.9.0)\n",
            "  Downloading PyYAML-6.0.1-cp310-cp310-manylinux_2_17_x86_64.manylinux2014_x86_64.whl.metadata (2.1 kB)\n",
            "Collecting azure-storage-blob==12.19.1 (from syft==0.9.0)\n",
            "  Downloading azure_storage_blob-12.19.1-py3-none-any.whl.metadata (26 kB)\n",
            "Collecting ipywidgets==8.1.2 (from syft==0.9.0)\n",
            "  Downloading ipywidgets-8.1.2-py3-none-any.whl.metadata (2.4 kB)\n",
            "Collecting tomli==2.0.1 (from syft==0.9.0)\n",
            "  Downloading tomli-2.0.1-py3-none-any.whl.metadata (8.9 kB)\n",
            "Collecting tomli-w==1.0.0 (from syft==0.9.0)\n",
            "  Downloading tomli_w-1.0.0-py3-none-any.whl.metadata (4.9 kB)\n",
            "Collecting rich==13.7.1 (from syft==0.9.0)\n",
            "  Downloading rich-13.7.1-py3-none-any.whl.metadata (18 kB)\n",
            "Requirement already satisfied: jinja2==3.1.4 in /usr/local/lib/python3.10/dist-packages (from syft==0.9.0) (3.1.4)\n",
            "Collecting tenacity==8.3.0 (from syft==0.9.0)\n",
            "  Downloading tenacity-8.3.0-py3-none-any.whl.metadata (1.2 kB)\n",
            "Collecting nh3==0.2.17 (from syft==0.9.0)\n",
            "  Downloading nh3-0.2.17-cp37-abi3-manylinux_2_17_x86_64.manylinux2014_x86_64.whl.metadata (1.7 kB)\n",
            "Collecting numpy<=1.24.4,>=1.23.5 (from syft==0.9.0)\n",
            "  Downloading numpy-1.24.4-cp310-cp310-manylinux_2_17_x86_64.manylinux2014_x86_64.whl.metadata (5.6 kB)\n",
            "Requirement already satisfied: argon2-cffi-bindings in /usr/local/lib/python3.10/dist-packages (from argon2-cffi==23.1.0->syft==0.9.0) (21.2.0)\n",
            "Collecting azure-core<2.0.0,>=1.28.0 (from azure-storage-blob==12.19.1->syft==0.9.0)\n",
            "  Downloading azure_core-1.31.0-py3-none-any.whl.metadata (39 kB)\n",
            "Requirement already satisfied: cryptography>=2.1.4 in /usr/local/lib/python3.10/dist-packages (from azure-storage-blob==12.19.1->syft==0.9.0) (43.0.3)\n",
            "Collecting isodate>=0.6.1 (from azure-storage-blob==12.19.1->syft==0.9.0)\n",
            "  Downloading isodate-0.7.2-py3-none-any.whl.metadata (11 kB)\n",
            "Collecting botocore<1.35.0,>=1.34.56 (from boto3==1.34.56->syft==0.9.0)\n",
            "  Downloading botocore-1.34.162-py3-none-any.whl.metadata (5.7 kB)\n",
            "Collecting jmespath<2.0.0,>=0.7.1 (from boto3==1.34.56->syft==0.9.0)\n",
            "  Downloading jmespath-1.0.1-py3-none-any.whl.metadata (7.6 kB)\n",
            "Collecting s3transfer<0.11.0,>=0.10.0 (from boto3==1.34.56->syft==0.9.0)\n",
            "  Downloading s3transfer-0.10.3-py3-none-any.whl.metadata (1.7 kB)\n",
            "Requirement already satisfied: urllib3>=1.26.0 in /usr/local/lib/python3.10/dist-packages (from docker==7.1.0->syft==0.9.0) (2.2.3)\n",
            "Collecting starlette<0.38.0,>=0.37.2 (from fastapi==0.111.0->syft==0.9.0)\n",
            "  Downloading starlette-0.37.2-py3-none-any.whl.metadata (5.9 kB)\n",
            "Collecting fastapi-cli>=0.0.2 (from fastapi==0.111.0->syft==0.9.0)\n",
            "  Downloading fastapi_cli-0.0.5-py3-none-any.whl.metadata (7.0 kB)\n",
            "Collecting httpx>=0.23.0 (from fastapi==0.111.0->syft==0.9.0)\n",
            "  Downloading httpx-0.27.2-py3-none-any.whl.metadata (7.1 kB)\n",
            "Collecting python-multipart>=0.0.7 (from fastapi==0.111.0->syft==0.9.0)\n",
            "  Downloading python_multipart-0.0.12-py3-none-any.whl.metadata (1.9 kB)\n",
            "Collecting ujson!=4.0.2,!=4.1.0,!=4.2.0,!=4.3.0,!=5.0.0,!=5.1.0,>=4.0.1 (from fastapi==0.111.0->syft==0.9.0)\n",
            "  Downloading ujson-5.10.0-cp310-cp310-manylinux_2_17_x86_64.manylinux2014_x86_64.whl.metadata (9.3 kB)\n",
            "Collecting orjson>=3.2.1 (from fastapi==0.111.0->syft==0.9.0)\n",
            "  Downloading orjson-3.10.10-cp310-cp310-manylinux_2_17_x86_64.manylinux2014_x86_64.whl.metadata (50 kB)\n",
            "\u001b[2K     \u001b[90m━━━━━━━━━━━━━━━━━━━━━━━━━━━━━━━━━━━━━━━━\u001b[0m \u001b[32m50.6/50.6 kB\u001b[0m \u001b[31m4.1 MB/s\u001b[0m eta \u001b[36m0:00:00\u001b[0m\n",
            "\u001b[?25hCollecting email_validator>=2.0.0 (from fastapi==0.111.0->syft==0.9.0)\n",
            "  Downloading email_validator-2.2.0-py3-none-any.whl.metadata (25 kB)\n",
            "Collecting comm>=0.1.3 (from ipywidgets==8.1.2->syft==0.9.0)\n",
            "  Downloading comm-0.2.2-py3-none-any.whl.metadata (3.7 kB)\n",
            "Requirement already satisfied: ipython>=6.1.0 in /usr/local/lib/python3.10/dist-packages (from ipywidgets==8.1.2->syft==0.9.0) (7.34.0)\n",
            "Requirement already satisfied: traitlets>=4.3.1 in /usr/local/lib/python3.10/dist-packages (from ipywidgets==8.1.2->syft==0.9.0) (5.7.1)\n",
            "Collecting widgetsnbextension~=4.0.10 (from ipywidgets==8.1.2->syft==0.9.0)\n",
            "  Downloading widgetsnbextension-4.0.13-py3-none-any.whl.metadata (1.6 kB)\n",
            "Requirement already satisfied: jupyterlab-widgets~=3.0.10 in /usr/local/lib/python3.10/dist-packages (from ipywidgets==8.1.2->syft==0.9.0) (3.0.13)\n",
            "Requirement already satisfied: MarkupSafe>=2.0 in /usr/local/lib/python3.10/dist-packages (from jinja2==3.1.4->syft==0.9.0) (3.0.2)\n",
            "Requirement already satisfied: aiohttp>=3.8.4 in /usr/local/lib/python3.10/dist-packages (from kr8s==0.13.5->syft==0.9.0) (3.10.10)\n",
            "Requirement already satisfied: anyio>=3.7.0 in /usr/local/lib/python3.10/dist-packages (from kr8s==0.13.5->syft==0.9.0) (3.7.1)\n",
            "Collecting asyncache>=0.3.1 (from kr8s==0.13.5->syft==0.9.0)\n",
            "  Downloading asyncache-0.3.1-py3-none-any.whl.metadata (2.0 kB)\n",
            "Requirement already satisfied: exceptiongroup>=1.2.0 in /usr/local/lib/python3.10/dist-packages (from kr8s==0.13.5->syft==0.9.0) (1.2.2)\n",
            "Requirement already satisfied: python-box>=7.0.1 in /usr/local/lib/python3.10/dist-packages (from kr8s==0.13.5->syft==0.9.0) (7.2.0)\n",
            "Collecting python-jsonpath>=0.7.1 (from kr8s==0.13.5->syft==0.9.0)\n",
            "  Downloading python_jsonpath-1.2.0-py3-none-any.whl.metadata (6.3 kB)\n",
            "Requirement already satisfied: python-dateutil>=2.8.2 in /usr/local/lib/python3.10/dist-packages (from pandas==2.2.2->syft==0.9.0) (2.8.2)\n",
            "Requirement already satisfied: pytz>=2020.1 in /usr/local/lib/python3.10/dist-packages (from pandas==2.2.2->syft==0.9.0) (2024.2)\n",
            "Requirement already satisfied: tzdata>=2022.7 in /usr/local/lib/python3.10/dist-packages (from pandas==2.2.2->syft==0.9.0) (2024.2)\n",
            "Requirement already satisfied: annotated-types>=0.4.0 in /usr/local/lib/python3.10/dist-packages (from pydantic==2.6.0->pydantic[email]==2.6.0->syft==0.9.0) (0.7.0)\n",
            "Collecting pydantic-core==2.16.1 (from pydantic==2.6.0->pydantic[email]==2.6.0->syft==0.9.0)\n",
            "  Downloading pydantic_core-2.16.1-cp310-cp310-manylinux_2_17_x86_64.manylinux2014_x86_64.whl.metadata (6.5 kB)\n",
            "Collecting python-dotenv>=0.21.0 (from pydantic-settings==2.2.1->syft==0.9.0)\n",
            "  Downloading python_dotenv-1.0.1-py3-none-any.whl.metadata (23 kB)\n",
            "Collecting dnspython<3.0.0,>=1.16.0 (from pymongo==4.6.3->syft==0.9.0)\n",
            "  Downloading dnspython-2.7.0-py3-none-any.whl.metadata (5.8 kB)\n",
            "Requirement already satisfied: cffi>=1.4.1 in /usr/local/lib/python3.10/dist-packages (from pynacl==1.5.0->syft==0.9.0) (1.17.1)\n",
            "Requirement already satisfied: charset-normalizer<4,>=2 in /usr/local/lib/python3.10/dist-packages (from requests==2.32.3->syft==0.9.0) (3.4.0)\n",
            "Requirement already satisfied: idna<4,>=2.5 in /usr/local/lib/python3.10/dist-packages (from requests==2.32.3->syft==0.9.0) (3.10)\n",
            "Requirement already satisfied: certifi>=2017.4.17 in /usr/local/lib/python3.10/dist-packages (from requests==2.32.3->syft==0.9.0) (2024.8.30)\n",
            "Requirement already satisfied: markdown-it-py>=2.2.0 in /usr/local/lib/python3.10/dist-packages (from rich==13.7.1->syft==0.9.0) (3.0.0)\n",
            "Requirement already satisfied: pygments<3.0.0,>=2.13.0 in /usr/local/lib/python3.10/dist-packages (from rich==13.7.1->syft==0.9.0) (2.18.0)\n",
            "Requirement already satisfied: filelock<4.0.0,>=3.7.1 in /usr/local/lib/python3.10/dist-packages (from sherlock[filelock]==0.4.1->syft==0.9.0) (3.16.1)\n",
            "Requirement already satisfied: click>=7.0 in /usr/local/lib/python3.10/dist-packages (from uvicorn==0.30.0->uvicorn[standard]==0.30.0->syft==0.9.0) (8.1.7)\n",
            "Collecting h11>=0.8 (from uvicorn==0.30.0->uvicorn[standard]==0.30.0->syft==0.9.0)\n",
            "  Downloading h11-0.14.0-py3-none-any.whl.metadata (8.2 kB)\n",
            "Collecting httptools>=0.5.0 (from uvicorn[standard]==0.30.0->syft==0.9.0)\n",
            "  Downloading httptools-0.6.4-cp310-cp310-manylinux_2_5_x86_64.manylinux1_x86_64.manylinux_2_17_x86_64.manylinux2014_x86_64.whl.metadata (3.6 kB)\n",
            "Collecting uvloop!=0.15.0,!=0.15.1,>=0.14.0 (from uvicorn[standard]==0.30.0->syft==0.9.0)\n",
            "  Downloading uvloop-0.21.0-cp310-cp310-manylinux_2_17_x86_64.manylinux2014_x86_64.whl.metadata (4.9 kB)\n",
            "Collecting watchfiles>=0.13 (from uvicorn[standard]==0.30.0->syft==0.9.0)\n",
            "  Downloading watchfiles-0.24.0-cp310-cp310-manylinux_2_17_x86_64.manylinux2014_x86_64.whl.metadata (4.9 kB)\n",
            "Collecting websockets>=10.4 (from uvicorn[standard]==0.30.0->syft==0.9.0)\n",
            "  Downloading websockets-13.1-cp310-cp310-manylinux_2_5_x86_64.manylinux1_x86_64.manylinux_2_17_x86_64.manylinux2014_x86_64.whl.metadata (6.8 kB)\n",
            "Requirement already satisfied: contourpy>=1.0.1 in /usr/local/lib/python3.10/dist-packages (from matplotlib<3.9.1,>=3.7.1->syft==0.9.0) (1.3.0)\n",
            "Requirement already satisfied: cycler>=0.10 in /usr/local/lib/python3.10/dist-packages (from matplotlib<3.9.1,>=3.7.1->syft==0.9.0) (0.12.1)\n",
            "Requirement already satisfied: fonttools>=4.22.0 in /usr/local/lib/python3.10/dist-packages (from matplotlib<3.9.1,>=3.7.1->syft==0.9.0) (4.54.1)\n",
            "Requirement already satisfied: kiwisolver>=1.0.1 in /usr/local/lib/python3.10/dist-packages (from matplotlib<3.9.1,>=3.7.1->syft==0.9.0) (1.4.7)\n",
            "Requirement already satisfied: pillow>=6.2.0 in /usr/local/lib/python3.10/dist-packages (from matplotlib<3.9.1,>=3.7.1->syft==0.9.0) (10.4.0)\n",
            "Requirement already satisfied: pyparsing>=2.3.1 in /usr/local/lib/python3.10/dist-packages (from matplotlib<3.9.1,>=3.7.1->syft==0.9.0) (3.2.0)\n",
            "Requirement already satisfied: aiohappyeyeballs>=2.3.0 in /usr/local/lib/python3.10/dist-packages (from aiohttp>=3.8.4->kr8s==0.13.5->syft==0.9.0) (2.4.3)\n",
            "Requirement already satisfied: aiosignal>=1.1.2 in /usr/local/lib/python3.10/dist-packages (from aiohttp>=3.8.4->kr8s==0.13.5->syft==0.9.0) (1.3.1)\n",
            "Requirement already satisfied: attrs>=17.3.0 in /usr/local/lib/python3.10/dist-packages (from aiohttp>=3.8.4->kr8s==0.13.5->syft==0.9.0) (24.2.0)\n",
            "Requirement already satisfied: frozenlist>=1.1.1 in /usr/local/lib/python3.10/dist-packages (from aiohttp>=3.8.4->kr8s==0.13.5->syft==0.9.0) (1.4.1)\n",
            "Requirement already satisfied: multidict<7.0,>=4.5 in /usr/local/lib/python3.10/dist-packages (from aiohttp>=3.8.4->kr8s==0.13.5->syft==0.9.0) (6.1.0)\n",
            "Requirement already satisfied: yarl<2.0,>=1.12.0 in /usr/local/lib/python3.10/dist-packages (from aiohttp>=3.8.4->kr8s==0.13.5->syft==0.9.0) (1.16.0)\n",
            "Requirement already satisfied: async-timeout<5.0,>=4.0 in /usr/local/lib/python3.10/dist-packages (from aiohttp>=3.8.4->kr8s==0.13.5->syft==0.9.0) (4.0.3)\n",
            "Requirement already satisfied: sniffio>=1.1 in /usr/local/lib/python3.10/dist-packages (from anyio>=3.7.0->kr8s==0.13.5->syft==0.9.0) (1.3.1)\n",
            "Requirement already satisfied: cachetools<6.0.0,>=5.2.0 in /usr/local/lib/python3.10/dist-packages (from asyncache>=0.3.1->kr8s==0.13.5->syft==0.9.0) (5.5.0)\n",
            "Requirement already satisfied: six>=1.11.0 in /usr/local/lib/python3.10/dist-packages (from azure-core<2.0.0,>=1.28.0->azure-storage-blob==12.19.1->syft==0.9.0) (1.16.0)\n",
            "Requirement already satisfied: pycparser in /usr/local/lib/python3.10/dist-packages (from cffi>=1.4.1->pynacl==1.5.0->syft==0.9.0) (2.22)\n",
            "Requirement already satisfied: typer>=0.12.3 in /usr/local/lib/python3.10/dist-packages (from fastapi-cli>=0.0.2->fastapi==0.111.0->syft==0.9.0) (0.12.5)\n",
            "Collecting httpcore==1.* (from httpx>=0.23.0->fastapi==0.111.0->syft==0.9.0)\n",
            "  Downloading httpcore-1.0.6-py3-none-any.whl.metadata (21 kB)\n",
            "Collecting jedi>=0.16 (from ipython>=6.1.0->ipywidgets==8.1.2->syft==0.9.0)\n",
            "  Downloading jedi-0.19.1-py2.py3-none-any.whl.metadata (22 kB)\n",
            "Requirement already satisfied: decorator in /usr/local/lib/python3.10/dist-packages (from ipython>=6.1.0->ipywidgets==8.1.2->syft==0.9.0) (4.4.2)\n",
            "Requirement already satisfied: pickleshare in /usr/local/lib/python3.10/dist-packages (from ipython>=6.1.0->ipywidgets==8.1.2->syft==0.9.0) (0.7.5)\n",
            "Requirement already satisfied: prompt-toolkit!=3.0.0,!=3.0.1,<3.1.0,>=2.0.0 in /usr/local/lib/python3.10/dist-packages (from ipython>=6.1.0->ipywidgets==8.1.2->syft==0.9.0) (3.0.48)\n",
            "Requirement already satisfied: backcall in /usr/local/lib/python3.10/dist-packages (from ipython>=6.1.0->ipywidgets==8.1.2->syft==0.9.0) (0.2.0)\n",
            "Requirement already satisfied: matplotlib-inline in /usr/local/lib/python3.10/dist-packages (from ipython>=6.1.0->ipywidgets==8.1.2->syft==0.9.0) (0.1.7)\n",
            "Requirement already satisfied: pexpect>4.3 in /usr/local/lib/python3.10/dist-packages (from ipython>=6.1.0->ipywidgets==8.1.2->syft==0.9.0) (4.9.0)\n",
            "Requirement already satisfied: mdurl~=0.1 in /usr/local/lib/python3.10/dist-packages (from markdown-it-py>=2.2.0->rich==13.7.1->syft==0.9.0) (0.1.2)\n",
            "Requirement already satisfied: parso<0.9.0,>=0.8.3 in /usr/local/lib/python3.10/dist-packages (from jedi>=0.16->ipython>=6.1.0->ipywidgets==8.1.2->syft==0.9.0) (0.8.4)\n",
            "Requirement already satisfied: ptyprocess>=0.5 in /usr/local/lib/python3.10/dist-packages (from pexpect>4.3->ipython>=6.1.0->ipywidgets==8.1.2->syft==0.9.0) (0.7.0)\n",
            "Requirement already satisfied: wcwidth in /usr/local/lib/python3.10/dist-packages (from prompt-toolkit!=3.0.0,!=3.0.1,<3.1.0,>=2.0.0->ipython>=6.1.0->ipywidgets==8.1.2->syft==0.9.0) (0.2.13)\n",
            "Requirement already satisfied: shellingham>=1.3.0 in /usr/local/lib/python3.10/dist-packages (from typer>=0.12.3->fastapi-cli>=0.0.2->fastapi==0.111.0->syft==0.9.0) (1.5.4)\n",
            "Requirement already satisfied: propcache>=0.2.0 in /usr/local/lib/python3.10/dist-packages (from yarl<2.0,>=1.12.0->aiohttp>=3.8.4->kr8s==0.13.5->syft==0.9.0) (0.2.0)\n",
            "Downloading syft-0.9.0-py2.py3-none-any.whl (716 kB)\n",
            "\u001b[2K   \u001b[90m━━━━━━━━━━━━━━━━━━━━━━━━━━━━━━━━━━━━━━━━\u001b[0m \u001b[32m716.3/716.3 kB\u001b[0m \u001b[31m37.7 MB/s\u001b[0m eta \u001b[36m0:00:00\u001b[0m\n",
            "\u001b[?25hDownloading azure_storage_blob-12.19.1-py3-none-any.whl (394 kB)\n",
            "\u001b[2K   \u001b[90m━━━━━━━━━━━━━━━━━━━━━━━━━━━━━━━━━━━━━━━━\u001b[0m \u001b[32m394.5/394.5 kB\u001b[0m \u001b[31m29.5 MB/s\u001b[0m eta \u001b[36m0:00:00\u001b[0m\n",
            "\u001b[?25hDownloading bcrypt-4.1.2-cp39-abi3-manylinux_2_28_x86_64.whl (698 kB)\n",
            "\u001b[2K   \u001b[90m━━━━━━━━━━━━━━━━━━━━━━━━━━━━━━━━━━━━━━━━\u001b[0m \u001b[32m698.9/698.9 kB\u001b[0m \u001b[31m40.6 MB/s\u001b[0m eta \u001b[36m0:00:00\u001b[0m\n",
            "\u001b[?25hDownloading boto3-1.34.56-py3-none-any.whl (139 kB)\n",
            "\u001b[2K   \u001b[90m━━━━━━━━━━━━━━━━━━━━━━━━━━━━━━━━━━━━━━━━\u001b[0m \u001b[32m139.3/139.3 kB\u001b[0m \u001b[31m10.7 MB/s\u001b[0m eta \u001b[36m0:00:00\u001b[0m\n",
            "\u001b[?25hDownloading docker-7.1.0-py3-none-any.whl (147 kB)\n",
            "\u001b[2K   \u001b[90m━━━━━━━━━━━━━━━━━━━━━━━━━━━━━━━━━━━━━━━━\u001b[0m \u001b[32m147.8/147.8 kB\u001b[0m \u001b[31m13.3 MB/s\u001b[0m eta \u001b[36m0:00:00\u001b[0m\n",
            "\u001b[?25hDownloading fastapi-0.111.0-py3-none-any.whl (91 kB)\n",
            "\u001b[2K   \u001b[90m━━━━━━━━━━━━━━━━━━━━━━━━━━━━━━━━━━━━━━━━\u001b[0m \u001b[32m92.0/92.0 kB\u001b[0m \u001b[31m8.4 MB/s\u001b[0m eta \u001b[36m0:00:00\u001b[0m\n",
            "\u001b[?25hDownloading ipywidgets-8.1.2-py3-none-any.whl (139 kB)\n",
            "\u001b[2K   \u001b[90m━━━━━━━━━━━━━━━━━━━━━━━━━━━━━━━━━━━━━━━━\u001b[0m \u001b[32m139.4/139.4 kB\u001b[0m \u001b[31m12.0 MB/s\u001b[0m eta \u001b[36m0:00:00\u001b[0m\n",
            "\u001b[?25hDownloading itables-1.7.1-py3-none-any.whl (201 kB)\n",
            "\u001b[2K   \u001b[90m━━━━━━━━━━━━━━━━━━━━━━━━━━━━━━━━━━━━━━━━\u001b[0m \u001b[32m201.1/201.1 kB\u001b[0m \u001b[31m16.3 MB/s\u001b[0m eta \u001b[36m0:00:00\u001b[0m\n",
            "\u001b[?25hDownloading kr8s-0.13.5-py3-none-any.whl (56 kB)\n",
            "\u001b[2K   \u001b[90m━━━━━━━━━━━━━━━━━━━━━━━━━━━━━━━━━━━━━━━━\u001b[0m \u001b[32m56.3/56.3 kB\u001b[0m \u001b[31m5.0 MB/s\u001b[0m eta \u001b[36m0:00:00\u001b[0m\n",
            "\u001b[?25hDownloading Markdown-3.5.2-py3-none-any.whl (103 kB)\n",
            "\u001b[2K   \u001b[90m━━━━━━━━━━━━━━━━━━━━━━━━━━━━━━━━━━━━━━━━\u001b[0m \u001b[32m103.9/103.9 kB\u001b[0m \u001b[31m9.6 MB/s\u001b[0m eta \u001b[36m0:00:00\u001b[0m\n",
            "\u001b[?25hDownloading nh3-0.2.17-cp37-abi3-manylinux_2_17_x86_64.manylinux2014_x86_64.whl (777 kB)\n",
            "\u001b[2K   \u001b[90m━━━━━━━━━━━━━━━━━━━━━━━━━━━━━━━━━━━━━━━━\u001b[0m \u001b[32m777.1/777.1 kB\u001b[0m \u001b[31m39.6 MB/s\u001b[0m eta \u001b[36m0:00:00\u001b[0m\n",
            "\u001b[?25hDownloading psutil-6.0.0-cp36-abi3-manylinux_2_12_x86_64.manylinux2010_x86_64.manylinux_2_17_x86_64.manylinux2014_x86_64.whl (290 kB)\n",
            "\u001b[2K   \u001b[90m━━━━━━━━━━━━━━━━━━━━━━━━━━━━━━━━━━━━━━━━\u001b[0m \u001b[32m290.5/290.5 kB\u001b[0m \u001b[31m22.9 MB/s\u001b[0m eta \u001b[36m0:00:00\u001b[0m\n",
            "\u001b[?25hDownloading pyarrow-15.0.0-cp310-cp310-manylinux_2_28_x86_64.whl (38.3 MB)\n",
            "\u001b[2K   \u001b[90m━━━━━━━━━━━━━━━━━━━━━━━━━━━━━━━━━━━━━━━━\u001b[0m \u001b[32m38.3/38.3 MB\u001b[0m \u001b[31m20.4 MB/s\u001b[0m eta \u001b[36m0:00:00\u001b[0m\n",
            "\u001b[?25hDownloading pycapnp-2.0.0-cp310-cp310-manylinux_2_17_x86_64.manylinux2014_x86_64.whl (4.9 MB)\n",
            "\u001b[2K   \u001b[90m━━━━━━━━━━━━━━━━━━━━━━━━━━━━━━━━━━━━━━━━\u001b[0m \u001b[32m4.9/4.9 MB\u001b[0m \u001b[31m65.2 MB/s\u001b[0m eta \u001b[36m0:00:00\u001b[0m\n",
            "\u001b[?25hDownloading pydantic-2.6.0-py3-none-any.whl (394 kB)\n",
            "\u001b[2K   \u001b[90m━━━━━━━━━━━━━━━━━━━━━━━━━━━━━━━━━━━━━━━━\u001b[0m \u001b[32m394.2/394.2 kB\u001b[0m \u001b[31m27.0 MB/s\u001b[0m eta \u001b[36m0:00:00\u001b[0m\n",
            "\u001b[?25hDownloading pydantic_settings-2.2.1-py3-none-any.whl (13 kB)\n",
            "Downloading pymongo-4.6.3-cp310-cp310-manylinux_2_17_x86_64.manylinux2014_x86_64.whl (676 kB)\n",
            "\u001b[2K   \u001b[90m━━━━━━━━━━━━━━━━━━━━━━━━━━━━━━━━━━━━━━━━\u001b[0m \u001b[32m676.9/676.9 kB\u001b[0m \u001b[31m33.1 MB/s\u001b[0m eta \u001b[36m0:00:00\u001b[0m\n",
            "\u001b[?25hDownloading PyNaCl-1.5.0-cp36-abi3-manylinux_2_17_x86_64.manylinux2014_x86_64.manylinux_2_24_x86_64.whl (856 kB)\n",
            "\u001b[2K   \u001b[90m━━━━━━━━━━━━━━━━━━━━━━━━━━━━━━━━━━━━━━━━\u001b[0m \u001b[32m856.7/856.7 kB\u001b[0m \u001b[31m42.3 MB/s\u001b[0m eta \u001b[36m0:00:00\u001b[0m\n",
            "\u001b[?25hDownloading PyYAML-6.0.1-cp310-cp310-manylinux_2_17_x86_64.manylinux2014_x86_64.whl (705 kB)\n",
            "\u001b[2K   \u001b[90m━━━━━━━━━━━━━━━━━━━━━━━━━━━━━━━━━━━━━━━━\u001b[0m \u001b[32m705.5/705.5 kB\u001b[0m \u001b[31m35.5 MB/s\u001b[0m eta \u001b[36m0:00:00\u001b[0m\n",
            "\u001b[?25hDownloading RestrictedPython-7.0-py3-none-any.whl (26 kB)\n",
            "Downloading result-0.16.1-py3-none-any.whl (11 kB)\n",
            "Downloading rich-13.7.1-py3-none-any.whl (240 kB)\n",
            "\u001b[2K   \u001b[90m━━━━━━━━━━━━━━━━━━━━━━━━━━━━━━━━━━━━━━━━\u001b[0m \u001b[32m240.7/240.7 kB\u001b[0m \u001b[31m18.1 MB/s\u001b[0m eta \u001b[36m0:00:00\u001b[0m\n",
            "\u001b[?25hDownloading sherlock-0.4.1-py3-none-any.whl (16 kB)\n",
            "Downloading tenacity-8.3.0-py3-none-any.whl (25 kB)\n",
            "Downloading tomli-2.0.1-py3-none-any.whl (12 kB)\n",
            "Downloading tomli_w-1.0.0-py3-none-any.whl (6.0 kB)\n",
            "Downloading tqdm-4.66.4-py3-none-any.whl (78 kB)\n",
            "\u001b[2K   \u001b[90m━━━━━━━━━━━━━━━━━━━━━━━━━━━━━━━━━━━━━━━━\u001b[0m \u001b[32m78.3/78.3 kB\u001b[0m \u001b[31m5.6 MB/s\u001b[0m eta \u001b[36m0:00:00\u001b[0m\n",
            "\u001b[?25hDownloading typeguard-4.1.5-py3-none-any.whl (34 kB)\n",
            "Downloading typing_extensions-4.12.0-py3-none-any.whl (37 kB)\n",
            "Downloading uvicorn-0.30.0-py3-none-any.whl (62 kB)\n",
            "\u001b[2K   \u001b[90m━━━━━━━━━━━━━━━━━━━━━━━━━━━━━━━━━━━━━━━━\u001b[0m \u001b[32m62.4/62.4 kB\u001b[0m \u001b[31m5.6 MB/s\u001b[0m eta \u001b[36m0:00:00\u001b[0m\n",
            "\u001b[?25hDownloading pydantic_core-2.16.1-cp310-cp310-manylinux_2_17_x86_64.manylinux2014_x86_64.whl (2.2 MB)\n",
            "\u001b[2K   \u001b[90m━━━━━━━━━━━━━━━━━━━━━━━━━━━━━━━━━━━━━━━━\u001b[0m \u001b[32m2.2/2.2 MB\u001b[0m \u001b[31m57.0 MB/s\u001b[0m eta \u001b[36m0:00:00\u001b[0m\n",
            "\u001b[?25hDownloading numpy-1.24.4-cp310-cp310-manylinux_2_17_x86_64.manylinux2014_x86_64.whl (17.3 MB)\n",
            "\u001b[2K   \u001b[90m━━━━━━━━━━━━━━━━━━━━━━━━━━━━━━━━━━━━━━━━\u001b[0m \u001b[32m17.3/17.3 MB\u001b[0m \u001b[31m74.1 MB/s\u001b[0m eta \u001b[36m0:00:00\u001b[0m\n",
            "\u001b[?25hDownloading asyncache-0.3.1-py3-none-any.whl (3.7 kB)\n",
            "Downloading azure_core-1.31.0-py3-none-any.whl (197 kB)\n",
            "\u001b[2K   \u001b[90m━━━━━━━━━━━━━━━━━━━━━━━━━━━━━━━━━━━━━━━━\u001b[0m \u001b[32m197.4/197.4 kB\u001b[0m \u001b[31m18.3 MB/s\u001b[0m eta \u001b[36m0:00:00\u001b[0m\n",
            "\u001b[?25hDownloading botocore-1.34.162-py3-none-any.whl (12.5 MB)\n",
            "\u001b[2K   \u001b[90m━━━━━━━━━━━━━━━━━━━━━━━━━━━━━━━━━━━━━━━━\u001b[0m \u001b[32m12.5/12.5 MB\u001b[0m \u001b[31m86.6 MB/s\u001b[0m eta \u001b[36m0:00:00\u001b[0m\n",
            "\u001b[?25hDownloading comm-0.2.2-py3-none-any.whl (7.2 kB)\n",
            "Downloading dnspython-2.7.0-py3-none-any.whl (313 kB)\n",
            "\u001b[2K   \u001b[90m━━━━━━━━━━━━━━━━━━━━━━━━━━━━━━━━━━━━━━━━\u001b[0m \u001b[32m313.6/313.6 kB\u001b[0m \u001b[31m27.7 MB/s\u001b[0m eta \u001b[36m0:00:00\u001b[0m\n",
            "\u001b[?25hDownloading email_validator-2.2.0-py3-none-any.whl (33 kB)\n",
            "Downloading fastapi_cli-0.0.5-py3-none-any.whl (9.5 kB)\n",
            "Downloading h11-0.14.0-py3-none-any.whl (58 kB)\n",
            "\u001b[2K   \u001b[90m━━━━━━━━━━━━━━━━━━━━━━━━━━━━━━━━━━━━━━━━\u001b[0m \u001b[32m58.3/58.3 kB\u001b[0m \u001b[31m5.8 MB/s\u001b[0m eta \u001b[36m0:00:00\u001b[0m\n",
            "\u001b[?25hDownloading httptools-0.6.4-cp310-cp310-manylinux_2_5_x86_64.manylinux1_x86_64.manylinux_2_17_x86_64.manylinux2014_x86_64.whl (442 kB)\n",
            "\u001b[2K   \u001b[90m━━━━━━━━━━━━━━━━━━━━━━━━━━━━━━━━━━━━━━━━\u001b[0m \u001b[32m442.1/442.1 kB\u001b[0m \u001b[31m30.6 MB/s\u001b[0m eta \u001b[36m0:00:00\u001b[0m\n",
            "\u001b[?25hDownloading httpx-0.27.2-py3-none-any.whl (76 kB)\n",
            "\u001b[2K   \u001b[90m━━━━━━━━━━━━━━━━━━━━━━━━━━━━━━━━━━━━━━━━\u001b[0m \u001b[32m76.4/76.4 kB\u001b[0m \u001b[31m7.9 MB/s\u001b[0m eta \u001b[36m0:00:00\u001b[0m\n",
            "\u001b[?25hDownloading httpcore-1.0.6-py3-none-any.whl (78 kB)\n",
            "\u001b[2K   \u001b[90m━━━━━━━━━━━━━━━━━━━━━━━━━━━━━━━━━━━━━━━━\u001b[0m \u001b[32m78.0/78.0 kB\u001b[0m \u001b[31m7.7 MB/s\u001b[0m eta \u001b[36m0:00:00\u001b[0m\n",
            "\u001b[?25hDownloading isodate-0.7.2-py3-none-any.whl (22 kB)\n",
            "Downloading jmespath-1.0.1-py3-none-any.whl (20 kB)\n",
            "Downloading orjson-3.10.10-cp310-cp310-manylinux_2_17_x86_64.manylinux2014_x86_64.whl (144 kB)\n",
            "\u001b[2K   \u001b[90m━━━━━━━━━━━━━━━━━━━━━━━━━━━━━━━━━━━━━━━━\u001b[0m \u001b[32m144.5/144.5 kB\u001b[0m \u001b[31m14.2 MB/s\u001b[0m eta \u001b[36m0:00:00\u001b[0m\n",
            "\u001b[?25hDownloading python_dotenv-1.0.1-py3-none-any.whl (19 kB)\n",
            "Downloading python_jsonpath-1.2.0-py3-none-any.whl (53 kB)\n",
            "\u001b[2K   \u001b[90m━━━━━━━━━━━━━━━━━━━━━━━━━━━━━━━━━━━━━━━━\u001b[0m \u001b[32m53.6/53.6 kB\u001b[0m \u001b[31m4.2 MB/s\u001b[0m eta \u001b[36m0:00:00\u001b[0m\n",
            "\u001b[?25hDownloading python_multipart-0.0.12-py3-none-any.whl (23 kB)\n",
            "Downloading s3transfer-0.10.3-py3-none-any.whl (82 kB)\n",
            "\u001b[2K   \u001b[90m━━━━━━━━━━━━━━━━━━━━━━━━━━━━━━━━━━━━━━━━\u001b[0m \u001b[32m82.6/82.6 kB\u001b[0m \u001b[31m8.7 MB/s\u001b[0m eta \u001b[36m0:00:00\u001b[0m\n",
            "\u001b[?25hDownloading starlette-0.37.2-py3-none-any.whl (71 kB)\n",
            "\u001b[2K   \u001b[90m━━━━━━━━━━━━━━━━━━━━━━━━━━━━━━━━━━━━━━━━\u001b[0m \u001b[32m71.9/71.9 kB\u001b[0m \u001b[31m7.3 MB/s\u001b[0m eta \u001b[36m0:00:00\u001b[0m\n",
            "\u001b[?25hDownloading ujson-5.10.0-cp310-cp310-manylinux_2_17_x86_64.manylinux2014_x86_64.whl (53 kB)\n",
            "\u001b[2K   \u001b[90m━━━━━━━━━━━━━━━━━━━━━━━━━━━━━━━━━━━━━━━━\u001b[0m \u001b[32m53.6/53.6 kB\u001b[0m \u001b[31m5.4 MB/s\u001b[0m eta \u001b[36m0:00:00\u001b[0m\n",
            "\u001b[?25hDownloading uvloop-0.21.0-cp310-cp310-manylinux_2_17_x86_64.manylinux2014_x86_64.whl (3.8 MB)\n",
            "\u001b[2K   \u001b[90m━━━━━━━━━━━━━━━━━━━━━━━━━━━━━━━━━━━━━━━━\u001b[0m \u001b[32m3.8/3.8 MB\u001b[0m \u001b[31m87.2 MB/s\u001b[0m eta \u001b[36m0:00:00\u001b[0m\n",
            "\u001b[?25hDownloading watchfiles-0.24.0-cp310-cp310-manylinux_2_17_x86_64.manylinux2014_x86_64.whl (425 kB)\n",
            "\u001b[2K   \u001b[90m━━━━━━━━━━━━━━━━━━━━━━━━━━━━━━━━━━━━━━━━\u001b[0m \u001b[32m425.7/425.7 kB\u001b[0m \u001b[31m35.0 MB/s\u001b[0m eta \u001b[36m0:00:00\u001b[0m\n",
            "\u001b[?25hDownloading websockets-13.1-cp310-cp310-manylinux_2_5_x86_64.manylinux1_x86_64.manylinux_2_17_x86_64.manylinux2014_x86_64.whl (164 kB)\n",
            "\u001b[2K   \u001b[90m━━━━━━━━━━━━━━━━━━━━━━━━━━━━━━━━━━━━━━━━\u001b[0m \u001b[32m164.1/164.1 kB\u001b[0m \u001b[31m16.0 MB/s\u001b[0m eta \u001b[36m0:00:00\u001b[0m\n",
            "\u001b[?25hDownloading widgetsnbextension-4.0.13-py3-none-any.whl (2.3 MB)\n",
            "\u001b[2K   \u001b[90m━━━━━━━━━━━━━━━━━━━━━━━━━━━━━━━━━━━━━━━━\u001b[0m \u001b[32m2.3/2.3 MB\u001b[0m \u001b[31m77.1 MB/s\u001b[0m eta \u001b[36m0:00:00\u001b[0m\n",
            "\u001b[?25hDownloading jedi-0.19.1-py2.py3-none-any.whl (1.6 MB)\n",
            "\u001b[2K   \u001b[90m━━━━━━━━━━━━━━━━━━━━━━━━━━━━━━━━━━━━━━━━\u001b[0m \u001b[32m1.6/1.6 MB\u001b[0m \u001b[31m66.8 MB/s\u001b[0m eta \u001b[36m0:00:00\u001b[0m\n",
            "\u001b[?25hBuilding wheels for collected packages: forbiddenfruit\n",
            "  Building wheel for forbiddenfruit (setup.py) ... \u001b[?25l\u001b[?25hdone\n",
            "  Created wheel for forbiddenfruit: filename=forbiddenfruit-0.1.4-py3-none-any.whl size=21791 sha256=7bdb625a224ec7977e9af79f5251f0028a8fc36d1655241bca55ae01b6b18566\n",
            "  Stored in directory: /root/.cache/pip/wheels/0c/f3/30/e6e3c3f32fbcda46da9c9828bb1268f43b422559ba6d9d5dde\n",
            "Successfully built forbiddenfruit\n",
            "Installing collected packages: nh3, forbiddenfruit, widgetsnbextension, websockets, uvloop, ujson, typing-extensions, tqdm, tomli-w, tomli, tenacity, sherlock, result, RestrictedPython, PyYAML, python-multipart, python-jsonpath, python-dotenv, pycapnp, psutil, orjson, numpy, markdown, jmespath, jedi, isodate, httptools, h11, dnspython, comm, bcrypt, asyncache, watchfiles, uvicorn, typeguard, starlette, rich, pynacl, pymongo, pydantic-core, pyarrow, httpcore, email_validator, docker, botocore, azure-core, s3transfer, pydantic, itables, ipywidgets, httpx, azure-storage-blob, pydantic-settings, fastapi-cli, boto3, kr8s, fastapi, syft\n",
            "  Attempting uninstall: widgetsnbextension\n",
            "    Found existing installation: widgetsnbextension 3.6.10\n",
            "    Uninstalling widgetsnbextension-3.6.10:\n",
            "      Successfully uninstalled widgetsnbextension-3.6.10\n",
            "  Attempting uninstall: typing-extensions\n",
            "    Found existing installation: typing_extensions 4.12.2\n",
            "    Uninstalling typing_extensions-4.12.2:\n",
            "      Successfully uninstalled typing_extensions-4.12.2\n",
            "  Attempting uninstall: tqdm\n",
            "    Found existing installation: tqdm 4.66.5\n",
            "    Uninstalling tqdm-4.66.5:\n",
            "      Successfully uninstalled tqdm-4.66.5\n",
            "  Attempting uninstall: tomli\n",
            "    Found existing installation: tomli 2.0.2\n",
            "    Uninstalling tomli-2.0.2:\n",
            "      Successfully uninstalled tomli-2.0.2\n",
            "  Attempting uninstall: tenacity\n",
            "    Found existing installation: tenacity 9.0.0\n",
            "    Uninstalling tenacity-9.0.0:\n",
            "      Successfully uninstalled tenacity-9.0.0\n",
            "  Attempting uninstall: PyYAML\n",
            "    Found existing installation: PyYAML 6.0.2\n",
            "    Uninstalling PyYAML-6.0.2:\n",
            "      Successfully uninstalled PyYAML-6.0.2\n",
            "  Attempting uninstall: psutil\n",
            "    Found existing installation: psutil 5.9.5\n",
            "    Uninstalling psutil-5.9.5:\n",
            "      Successfully uninstalled psutil-5.9.5\n",
            "  Attempting uninstall: numpy\n",
            "    Found existing installation: numpy 1.26.4\n",
            "    Uninstalling numpy-1.26.4:\n",
            "      Successfully uninstalled numpy-1.26.4\n",
            "  Attempting uninstall: markdown\n",
            "    Found existing installation: Markdown 3.7\n",
            "    Uninstalling Markdown-3.7:\n",
            "      Successfully uninstalled Markdown-3.7\n",
            "  Attempting uninstall: typeguard\n",
            "    Found existing installation: typeguard 4.3.0\n",
            "    Uninstalling typeguard-4.3.0:\n",
            "      Successfully uninstalled typeguard-4.3.0\n",
            "  Attempting uninstall: rich\n",
            "    Found existing installation: rich 13.9.3\n",
            "    Uninstalling rich-13.9.3:\n",
            "      Successfully uninstalled rich-13.9.3\n",
            "  Attempting uninstall: pydantic-core\n",
            "    Found existing installation: pydantic_core 2.23.4\n",
            "    Uninstalling pydantic_core-2.23.4:\n",
            "      Successfully uninstalled pydantic_core-2.23.4\n",
            "  Attempting uninstall: pyarrow\n",
            "    Found existing installation: pyarrow 16.1.0\n",
            "    Uninstalling pyarrow-16.1.0:\n",
            "      Successfully uninstalled pyarrow-16.1.0\n",
            "  Attempting uninstall: pydantic\n",
            "    Found existing installation: pydantic 2.9.2\n",
            "    Uninstalling pydantic-2.9.2:\n",
            "      Successfully uninstalled pydantic-2.9.2\n",
            "  Attempting uninstall: ipywidgets\n",
            "    Found existing installation: ipywidgets 7.7.1\n",
            "    Uninstalling ipywidgets-7.7.1:\n",
            "      Successfully uninstalled ipywidgets-7.7.1\n",
            "\u001b[31mERROR: pip's dependency resolver does not currently take into account all the packages that are installed. This behaviour is the source of the following dependency conflicts.\n",
            "albumentations 1.4.15 requires pydantic>=2.7.0, but you have pydantic 2.6.0 which is incompatible.\u001b[0m\u001b[31m\n",
            "\u001b[0mSuccessfully installed PyYAML-6.0.1 RestrictedPython-7.0 asyncache-0.3.1 azure-core-1.31.0 azure-storage-blob-12.19.1 bcrypt-4.1.2 boto3-1.34.56 botocore-1.34.162 comm-0.2.2 dnspython-2.7.0 docker-7.1.0 email_validator-2.2.0 fastapi-0.111.0 fastapi-cli-0.0.5 forbiddenfruit-0.1.4 h11-0.14.0 httpcore-1.0.6 httptools-0.6.4 httpx-0.27.2 ipywidgets-8.1.2 isodate-0.7.2 itables-1.7.1 jedi-0.19.1 jmespath-1.0.1 kr8s-0.13.5 markdown-3.5.2 nh3-0.2.17 numpy-1.24.4 orjson-3.10.10 psutil-6.0.0 pyarrow-15.0.0 pycapnp-2.0.0 pydantic-2.6.0 pydantic-core-2.16.1 pydantic-settings-2.2.1 pymongo-4.6.3 pynacl-1.5.0 python-dotenv-1.0.1 python-jsonpath-1.2.0 python-multipart-0.0.12 result-0.16.1 rich-13.7.1 s3transfer-0.10.3 sherlock-0.4.1 starlette-0.37.2 syft-0.9.0 tenacity-8.3.0 tomli-2.0.1 tomli-w-1.0.0 tqdm-4.66.4 typeguard-4.1.5 typing-extensions-4.12.0 ujson-5.10.0 uvicorn-0.30.0 uvloop-0.21.0 watchfiles-0.24.0 websockets-13.1 widgetsnbextension-4.0.13\n"
          ]
        },
        {
          "output_type": "display_data",
          "data": {
            "application/vnd.colab-display-data+json": {
              "pip_warning": {
                "packages": [
                  "numpy",
                  "psutil"
                ]
              },
              "id": "fa25d197d0644a4e985174c7d7d43b88"
            }
          },
          "metadata": {}
        }
      ],
      "source": [
        "!pip install syft==0.9.0\n"
      ]
    },
    {
      "cell_type": "markdown",
      "source": [
        "### Restart runtime session after running first cell to install pysyft, then run all from below"
      ],
      "metadata": {
        "id": "Jh_H3WwBBz73"
      }
    },
    {
      "cell_type": "code",
      "source": [
        "pip install tenseal\n"
      ],
      "metadata": {
        "colab": {
          "base_uri": "https://localhost:8080/"
        },
        "id": "KeJ6HTnY3B7Y",
        "outputId": "dc227575-888a-47a7-d0ec-da6536f45a7e"
      },
      "execution_count": null,
      "outputs": [
        {
          "output_type": "stream",
          "name": "stdout",
          "text": [
            "Collecting tenseal\n",
            "  Downloading tenseal-0.3.15-cp310-cp310-manylinux_2_27_x86_64.manylinux_2_28_x86_64.whl.metadata (8.2 kB)\n",
            "Downloading tenseal-0.3.15-cp310-cp310-manylinux_2_27_x86_64.manylinux_2_28_x86_64.whl (4.8 MB)\n",
            "\u001b[?25l   \u001b[90m━━━━━━━━━━━━━━━━━━━━━━━━━━━━━━━━━━━━━━━━\u001b[0m \u001b[32m0.0/4.8 MB\u001b[0m \u001b[31m?\u001b[0m eta \u001b[36m-:--:--\u001b[0m\r\u001b[2K   \u001b[91m━━━━━━━━━━━━━━━━━━━━━━\u001b[0m\u001b[91m╸\u001b[0m\u001b[90m━━━━━━━━━━━━━━━━━\u001b[0m \u001b[32m2.7/4.8 MB\u001b[0m \u001b[31m77.2 MB/s\u001b[0m eta \u001b[36m0:00:01\u001b[0m\r\u001b[2K   \u001b[91m━━━━━━━━━━━━━━━━━━━━━━━━━━━━━━━━━━━━━━━\u001b[0m\u001b[91m╸\u001b[0m \u001b[32m4.8/4.8 MB\u001b[0m \u001b[31m86.8 MB/s\u001b[0m eta \u001b[36m0:00:01\u001b[0m\r\u001b[2K   \u001b[90m━━━━━━━━━━━━━━━━━━━━━━━━━━━━━━━━━━━━━━━━\u001b[0m \u001b[32m4.8/4.8 MB\u001b[0m \u001b[31m56.1 MB/s\u001b[0m eta \u001b[36m0:00:00\u001b[0m\n",
            "\u001b[?25hInstalling collected packages: tenseal\n",
            "Successfully installed tenseal-0.3.15\n"
          ]
        }
      ]
    },
    {
      "cell_type": "code",
      "source": [
        "pip install scikit-learn pandas\n"
      ],
      "metadata": {
        "colab": {
          "base_uri": "https://localhost:8080/"
        },
        "id": "SDODpKFNRUHC",
        "outputId": "7c7e7f5a-bda8-4571-ff8b-52b66f7b4766"
      },
      "execution_count": null,
      "outputs": [
        {
          "output_type": "stream",
          "name": "stdout",
          "text": [
            "Requirement already satisfied: scikit-learn in /usr/local/lib/python3.10/dist-packages (1.5.2)\n",
            "Requirement already satisfied: pandas in /usr/local/lib/python3.10/dist-packages (2.2.2)\n",
            "Requirement already satisfied: numpy>=1.19.5 in /usr/local/lib/python3.10/dist-packages (from scikit-learn) (1.24.4)\n",
            "Requirement already satisfied: scipy>=1.6.0 in /usr/local/lib/python3.10/dist-packages (from scikit-learn) (1.13.1)\n",
            "Requirement already satisfied: joblib>=1.2.0 in /usr/local/lib/python3.10/dist-packages (from scikit-learn) (1.4.2)\n",
            "Requirement already satisfied: threadpoolctl>=3.1.0 in /usr/local/lib/python3.10/dist-packages (from scikit-learn) (3.5.0)\n",
            "Requirement already satisfied: python-dateutil>=2.8.2 in /usr/local/lib/python3.10/dist-packages (from pandas) (2.8.2)\n",
            "Requirement already satisfied: pytz>=2020.1 in /usr/local/lib/python3.10/dist-packages (from pandas) (2024.2)\n",
            "Requirement already satisfied: tzdata>=2022.7 in /usr/local/lib/python3.10/dist-packages (from pandas) (2024.2)\n",
            "Requirement already satisfied: six>=1.5 in /usr/local/lib/python3.10/dist-packages (from python-dateutil>=2.8.2->pandas) (1.16.0)\n"
          ]
        }
      ]
    },
    {
      "cell_type": "code",
      "source": [
        "import syft as sy\n",
        "import tenseal as ts\n",
        "import numpy as np\n",
        "import pandas as pd\n",
        "from sklearn.datasets import load_breast_cancer\n"
      ],
      "metadata": {
        "id": "rV6HWqLH2dTa"
      },
      "execution_count": null,
      "outputs": []
    },
    {
      "cell_type": "code",
      "source": [
        "data_site = sy.orchestra.launch(name=\"cancer-research-centre\", reset=True)\n",
        "client = data_site.login(email=\"info@openmined.org\", password=\"changethis\")\n"
      ],
      "metadata": {
        "colab": {
          "base_uri": "https://localhost:8080/",
          "height": 179
        },
        "id": "LeOBT-KV2eFj",
        "outputId": "7d242169-89ef-439a-9dbd-695af78098fb"
      },
      "execution_count": null,
      "outputs": [
        {
          "output_type": "display_data",
          "data": {
            "text/plain": [
              "SyftInfo: You have launched a development server at http://0.0.0.0:None.It is intended only for local use."
            ],
            "text/html": [
              "<div class=\"alert-info\" style=\"padding:5px;\"><strong>SyftInfo</strong>: <pre class=\"alert-info\" style=\"display:inline; font-family:inherit;\">You have launched a development server at http://0.0.0.0:None.It is intended only for local use.</pre></div><br/>"
            ]
          },
          "metadata": {}
        },
        {
          "output_type": "stream",
          "name": "stdout",
          "text": [
            "Logged into <cancer-research-centre: High side Datasite> as <info@openmined.org>\n"
          ]
        },
        {
          "output_type": "display_data",
          "data": {
            "text/plain": [
              "SyftWarning: You are using a default password. Please change the password using `[your_client].account.set_password([new_password])`."
            ],
            "text/html": [
              "<div class=\"alert-warning\" style=\"padding:5px;\"><strong>SyftWarning</strong>: <pre class=\"alert-warning\" style=\"display:inline; font-family:inherit;\">You are using a default password. Please change the password using `[your_client].account.set_password([new_password])`.</pre></div><br/>"
            ]
          },
          "metadata": {}
        }
      ]
    },
    {
      "cell_type": "code",
      "source": [
        "# Load the dataset\n",
        "data = load_breast_cancer()\n",
        "X = pd.DataFrame(data.data, columns=data.feature_names)\n",
        "y = pd.DataFrame(data.target, columns=[\"target\"])\n",
        "\n",
        "# Create mock data by adding noise\n",
        "np.random.seed(42)\n",
        "X_mock = X + np.random.normal(0, 1, X.shape)\n",
        "y_mock = y.sample(frac=1).reset_index(drop=True)\n"
      ],
      "metadata": {
        "id": "rRFXKyD-2gY6"
      },
      "execution_count": null,
      "outputs": []
    },
    {
      "cell_type": "code",
      "source": [
        "features_asset = sy.Asset(\n",
        "    name=\"Breast Cancer Data: Features\",\n",
        "    data=X,\n",
        "    mock=X_mock\n",
        ")\n",
        "\n",
        "targets_asset = sy.Asset(\n",
        "    name=\"Breast Cancer Data: Targets\",\n",
        "    data=y,\n",
        "    mock=y_mock\n",
        ")\n",
        "\n",
        "breast_cancer_dataset = sy.Dataset(\n",
        "    name=\"Breast Cancer Biomarker\",\n",
        "    description=\"Breast cancer dataset with features and target labels.\",\n",
        "    summary=\"Predict whether the cancer is benign or malignant.\",\n",
        "    citation=\"Dua, D. and Graff, C. (2019). UCI Machine Learning Repository.\",\n",
        "    url=\"https://archive.ics.uci.edu/ml/datasets/Breast+Cancer+Wisconsin+(Diagnostic)\"\n",
        ")\n",
        "\n",
        "breast_cancer_dataset.add_asset(features_asset)\n",
        "breast_cancer_dataset.add_asset(targets_asset)\n"
      ],
      "metadata": {
        "colab": {
          "base_uri": "https://localhost:8080/",
          "height": 99
        },
        "id": "h2rDovJk2hl_",
        "outputId": "d7731bbe-d93d-49d6-892c-ab0e2604e2e8"
      },
      "execution_count": null,
      "outputs": [
        {
          "output_type": "execute_result",
          "data": {
            "text/plain": [
              "SyftSuccess: Asset 'Breast Cancer Data: Targets' added to 'Breast Cancer Biomarker' Dataset."
            ],
            "text/html": [
              "<div class=\"alert-success\" style=\"padding:5px;\"><strong>SyftSuccess</strong>: <pre class=\"alert-success\" style=\"display:inline; font-family:inherit;\">Asset 'Breast Cancer Data: Targets' added to 'Breast Cancer Biomarker' Dataset.</pre></div><br/>"
            ]
          },
          "metadata": {},
          "execution_count": 6
        }
      ]
    },
    {
      "cell_type": "code",
      "source": [
        "client.upload_dataset(dataset=breast_cancer_dataset)\n"
      ],
      "metadata": {
        "colab": {
          "base_uri": "https://localhost:8080/",
          "height": 116
        },
        "id": "_Ju-_wME2kf3",
        "outputId": "bfafc052-ef9c-46b4-ee89-db01c1e01bb2"
      },
      "execution_count": null,
      "outputs": [
        {
          "output_type": "stream",
          "name": "stderr",
          "text": [
            "Uploading: Breast Cancer Data: Targets: 100%|\u001b[32m██████████\u001b[0m| 2/2 [00:00<00:00,  3.36it/s]\n"
          ]
        },
        {
          "output_type": "execute_result",
          "data": {
            "text/plain": [
              "SyftSuccess: Dataset uploaded to 'cancer-research-centre'. To see the datasets uploaded by a client on this server, use command `[your_client].datasets`"
            ],
            "text/html": [
              "<div class=\"alert-success\" style=\"padding:5px;\"><strong>SyftSuccess</strong>: <pre class=\"alert-success\" style=\"display:inline; font-family:inherit;\">Dataset uploaded to 'cancer-research-centre'. To see the datasets uploaded by a client on this server, use command `[your_client].datasets`</pre></div><br/>"
            ]
          },
          "metadata": {},
          "execution_count": 7
        }
      ]
    },
    {
      "cell_type": "markdown",
      "source": [
        "## Part 2: Data Scientist Access and Mock Data Preparation\n",
        "Objectives\n",
        "\n",
        "    Create a Data Scientist account.\n",
        "    Access the Datasite and retrieve mock data.\n",
        "    Prepare the machine learning code using mock data."
      ],
      "metadata": {
        "id": "mWPe64oB2lJf"
      }
    },
    {
      "cell_type": "code",
      "source": [
        "# Log in as Data Owner\n",
        "client = data_site.login(email=\"info@openmined.org\", password=\"changethis\")\n",
        "\n",
        "# Update Data Owner credentials\n",
        "client.account.set_email(\"owen@cancer-research.science\")\n",
        "client.account.set_password(\"securepassword\", confirm=False)\n",
        "\n",
        "# Create Data Scientist account\n",
        "rachel_account_info = client.users.create(\n",
        "    email=\"rachel@datascience.inst\",\n",
        "    name=\"Dr. Rachel Data\",\n",
        "    password=\"datascience123\",\n",
        "    password_verify=\"datascience123\",\n",
        "    institution=\"Data Science Institute\",\n",
        "    website=\"https://datascience.inst\"\n",
        ")\n"
      ],
      "metadata": {
        "colab": {
          "base_uri": "https://localhost:8080/",
          "height": 116
        },
        "id": "2wtB1WXq22nZ",
        "outputId": "50d1ba5c-ebc1-49f2-e86b-e0d7f3ef97e7"
      },
      "execution_count": null,
      "outputs": [
        {
          "output_type": "stream",
          "name": "stdout",
          "text": [
            "Logged into <cancer-research-centre: High side Datasite> as <info@openmined.org>\n"
          ]
        },
        {
          "output_type": "display_data",
          "data": {
            "text/plain": [
              "SyftWarning: You are using a default password. Please change the password using `[your_client].account.set_password([new_password])`."
            ],
            "text/html": [
              "<div class=\"alert-warning\" style=\"padding:5px;\"><strong>SyftWarning</strong>: <pre class=\"alert-warning\" style=\"display:inline; font-family:inherit;\">You are using a default password. Please change the password using `[your_client].account.set_password([new_password])`.</pre></div><br/>"
            ]
          },
          "metadata": {}
        }
      ]
    },
    {
      "cell_type": "code",
      "source": [
        "# Log in as Rachel\n",
        "client = data_site.login(email=\"rachel@datascience.inst\", password=\"datascience123\")\n"
      ],
      "metadata": {
        "colab": {
          "base_uri": "https://localhost:8080/"
        },
        "id": "Hf8yiTzD25DF",
        "outputId": "dfee16f2-0413-402d-b20b-489353306ebf"
      },
      "execution_count": null,
      "outputs": [
        {
          "output_type": "stream",
          "name": "stdout",
          "text": [
            "Logged into <cancer-research-centre: High side Datasite> as <rachel@datascience.inst>\n"
          ]
        }
      ]
    },
    {
      "cell_type": "code",
      "source": [
        "bc_dataset = client.datasets[\"Breast Cancer Biomarker\"]\n",
        "features, targets = bc_dataset.assets\n",
        "\n",
        "# Get mock data\n",
        "X_mock = features.mock\n",
        "y_mock = targets.mock\n"
      ],
      "metadata": {
        "id": "Vpzi4moS26bs"
      },
      "execution_count": null,
      "outputs": []
    },
    {
      "cell_type": "code",
      "source": [
        "from sklearn.model_selection import train_test_split\n",
        "from sklearn.preprocessing import StandardScaler\n",
        "from sklearn.linear_model import LogisticRegression\n",
        "from sklearn.metrics import accuracy_score\n",
        "\n",
        "def train_logistic_regression(X, y):\n",
        "    X_train, X_test, y_train, y_test = train_test_split(X, y, test_size=0.2, random_state=42)\n",
        "    scaler = StandardScaler()\n",
        "    X_train = scaler.fit_transform(X_train)\n",
        "    X_test = scaler.transform(X_test)\n",
        "    model = LogisticRegression()\n",
        "    model.fit(X_train, y_train)\n",
        "    acc = accuracy_score(y_test, model.predict(X_test))\n",
        "    return model, acc\n",
        "\n",
        "# Test on mock data\n",
        "model_mock, acc_mock = train_logistic_regression(X_mock, y_mock.values.ravel())\n",
        "print(f\"Accuracy on mock data: {acc_mock:.2f}\")\n"
      ],
      "metadata": {
        "colab": {
          "base_uri": "https://localhost:8080/"
        },
        "id": "19I84DqE299n",
        "outputId": "4fe077c8-fcaf-4e22-96f2-17fa122cfbee"
      },
      "execution_count": null,
      "outputs": [
        {
          "output_type": "stream",
          "name": "stdout",
          "text": [
            "Accuracy on mock data: 0.67\n"
          ]
        }
      ]
    },
    {
      "cell_type": "markdown",
      "source": [
        "## Part 3: Homomorphic Encryption with TenSEAL\n",
        "Objectives\n",
        "\n",
        "    Encrypt data using TenSEAL.\n",
        "    Prepare encrypted data for remote computation."
      ],
      "metadata": {
        "id": "TfC31cLt3j7W"
      }
    },
    {
      "cell_type": "code",
      "source": [
        "def create_context():\n",
        "    context = ts.context(\n",
        "        ts.SCHEME_TYPE.CKKS,\n",
        "        poly_modulus_degree=8192,\n",
        "        coeff_mod_bit_sizes=[60, 40, 40, 60]\n",
        "    )\n",
        "    context.global_scale = 2 ** 40\n",
        "    context.generate_galois_keys()\n",
        "    return context\n",
        "\n",
        "ctx = create_context()\n"
      ],
      "metadata": {
        "id": "x6ncu41q3rkd"
      },
      "execution_count": null,
      "outputs": []
    },
    {
      "cell_type": "code",
      "source": [
        "# Assuming X_mock and y_mock are the features and labels you want to encrypt\n",
        "encrypted_features = [ts.ckks_vector(ctx, x.tolist()) for x in X_mock.values]\n",
        "encrypted_labels = [ts.ckks_vector(ctx, [y]) for y in y_mock.values.ravel()]\n"
      ],
      "metadata": {
        "id": "_QimJnlb3tgj"
      },
      "execution_count": null,
      "outputs": []
    },
    {
      "cell_type": "code",
      "source": [
        "# Serialize context and data for sending to the server\n",
        "ctx_serialized = ctx.serialize()\n",
        "encrypted_features_serialized = [enc_x.serialize() for enc_x in encrypted_features]\n",
        "encrypted_labels_serialized = [enc_y.serialize() for enc_y in encrypted_labels]\n"
      ],
      "metadata": {
        "id": "qdbVnjrf3vJ6"
      },
      "execution_count": null,
      "outputs": []
    },
    {
      "cell_type": "code",
      "source": [
        "# Package data to send to the Datasite\n",
        "remote_data = {\n",
        "    \"context\": ctx_serialized,\n",
        "    \"features\": encrypted_features_serialized,\n",
        "    \"labels\": encrypted_labels_serialized\n",
        "}\n"
      ],
      "metadata": {
        "id": "5XsVAIFH3xtC"
      },
      "execution_count": null,
      "outputs": []
    },
    {
      "cell_type": "markdown",
      "source": [
        "## Part 4: Secure Model Training and Evaluation\n",
        "Objectives\n",
        "\n",
        "    Submit a remote code request to the Datasite.\n",
        "    Execute encrypted computation on the server.\n",
        "    Retrieve and decrypt the results."
      ],
      "metadata": {
        "id": "ubRrBKps3zoe"
      }
    },
    {
      "cell_type": "code",
      "source": [
        "def encrypted_training(features_data, labels_data):\n",
        "    import tenseal as ts\n",
        "    import numpy as np\n",
        "    from sklearn.linear_model import LogisticRegression\n",
        "    from sklearn.preprocessing import StandardScaler\n",
        "    from sklearn.metrics import accuracy_score\n",
        "\n",
        "    # Set up TenSEAL context\n",
        "    context = ts.context(\n",
        "        ts.SCHEME_TYPE.CKKS,\n",
        "        poly_modulus_degree=8192,\n",
        "        coeff_mod_bit_sizes=[60, 40, 40, 60]\n",
        "    )\n",
        "    context.global_scale = 2 ** 40\n",
        "    context.generate_galois_keys()\n",
        "\n",
        "    # Encrypt the data\n",
        "    X = features_data.values\n",
        "    y = labels_data.values.ravel()\n",
        "\n",
        "    encrypted_features = [ts.ckks_vector(context, x.tolist()) for x in X]\n",
        "    encrypted_labels = [ts.ckks_vector(context, [label]) for label in y]\n",
        "\n",
        "    # Decrypt data (since we have the secret key here)\n",
        "    X_decrypted = np.array([enc_x.decrypt() for enc_x in encrypted_features])\n",
        "    y_decrypted = np.array([enc_y.decrypt()[0] for enc_y in encrypted_labels])\n",
        "\n",
        "    # Convert labels to integers\n",
        "    y_decrypted = np.rint(y_decrypted).astype(int)\n",
        "\n",
        "    # Training\n",
        "    scaler = StandardScaler()\n",
        "    X_scaled = scaler.fit_transform(X_decrypted)\n",
        "    model = LogisticRegression()\n",
        "    model.fit(X_scaled, y_decrypted)\n",
        "\n",
        "    # Serialize model coefficients\n",
        "    model_data = {\n",
        "        \"coef\": model.coef_.tolist(),\n",
        "        \"intercept\": model.intercept_.tolist(),\n",
        "        \"scaler_mean\": scaler.mean_.tolist(),\n",
        "        \"scaler_scale\": scaler.scale_.tolist()\n",
        "    }\n",
        "    return model_data\n"
      ],
      "metadata": {
        "id": "K-KInkmi33UT"
      },
      "execution_count": null,
      "outputs": []
    },
    {
      "cell_type": "code",
      "source": [
        "# Create the code request\n",
        "remote_user_code = sy.syft_function_single_use(\n",
        "    features_data=features,\n",
        "    labels_data=targets\n",
        ")(encrypted_training)\n"
      ],
      "metadata": {
        "colab": {
          "base_uri": "https://localhost:8080/",
          "height": 99
        },
        "id": "L2qNZEpT5eTb",
        "outputId": "283167fe-03ee-488f-d471-d4f687bda604"
      },
      "execution_count": null,
      "outputs": [
        {
          "output_type": "display_data",
          "data": {
            "text/plain": [
              "SyftSuccess: Syft function 'encrypted_training' successfully created. To add a code request, please create a project using `project = syft.Project(...)`, then use command `project.create_code_request`."
            ],
            "text/html": [
              "<div class=\"alert-success\" style=\"padding:5px;\"><strong>SyftSuccess</strong>: <pre class=\"alert-success\" style=\"display:inline; font-family:inherit;\">Syft function 'encrypted_training' successfully created. To add a code request, please create a project using `project = syft.Project(...)`, then use command `project.create_code_request`.</pre></div><br/>"
            ]
          },
          "metadata": {}
        }
      ]
    },
    {
      "cell_type": "code",
      "source": [
        "# Create project\n",
        "project = client.create_project(\n",
        "    name=\"Encrypted Logistic Regression 2\",\n",
        "    description=\"Train logistic regression on encrypted data using homomorphic encryption.\",\n",
        "    user_email_address=\"rachel@datascience.inst\"\n",
        ")\n",
        "\n",
        "# Submit code request\n",
        "code_request = project.create_code_request(remote_user_code, client)\n"
      ],
      "metadata": {
        "id": "IyE7xSGj34qz"
      },
      "execution_count": null,
      "outputs": []
    },
    {
      "cell_type": "code",
      "source": [
        "# Data Owner logs in\n",
        "client_owner = data_site.login(email=\"owen@cancer-research.science\", password=\"securepassword\")\n",
        "\n",
        "# Review and approve the request\n",
        "request = client_owner.requests[-1]\n",
        "request.approve()\n"
      ],
      "metadata": {
        "colab": {
          "base_uri": "https://localhost:8080/",
          "height": 134
        },
        "id": "UgXfH61e36q2",
        "outputId": "f53c7181-058d-4a66-9ce5-7f4200a3876e"
      },
      "execution_count": null,
      "outputs": [
        {
          "output_type": "stream",
          "name": "stdout",
          "text": [
            "Logged into <cancer-research-centre: High side Datasite> as <owen@cancer-research.science>\n",
            "Approving request on change encrypted_training for datasite cancer-research-centre\n"
          ]
        },
        {
          "output_type": "execute_result",
          "data": {
            "text/plain": [
              "SyftSuccess: Request 4698b49778914fc08d22e803a8dc42b2 changes applied"
            ],
            "text/html": [
              "<div class=\"alert-success\" style=\"padding:5px;\"><strong>SyftSuccess</strong>: <pre class=\"alert-success\" style=\"display:inline; font-family:inherit;\">Request 4698b49778914fc08d22e803a8dc42b2 changes applied</pre></div><br/>"
            ]
          },
          "metadata": {},
          "execution_count": 19
        }
      ]
    },
    {
      "cell_type": "code",
      "source": [
        "# Data Scientist executes code\n",
        "result = client.code.encrypted_training(features_data=features, labels_data=targets)\n"
      ],
      "metadata": {
        "id": "MOAddWV837g6"
      },
      "execution_count": null,
      "outputs": []
    },
    {
      "cell_type": "code",
      "source": [
        "# Load model parameters\n",
        "model_params = result.get()\n",
        "\n",
        "# Reconstruct model\n",
        "model = LogisticRegression()\n",
        "model.coef_ = np.array(model_params[\"coef\"])\n",
        "model.intercept_ = np.array(model_params[\"intercept\"])\n",
        "scaler = StandardScaler()\n",
        "scaler.mean_ = np.array(model_params[\"scaler_mean\"])\n",
        "scaler.scale_ = np.array(model_params[\"scaler_scale\"])\n",
        "# Set model classes_\n",
        "model.classes_ = np.array([0, 1])  # Assuming binary classification with classes 0 and 1\n"
      ],
      "metadata": {
        "id": "gKCKaczt38Wx"
      },
      "execution_count": null,
      "outputs": []
    },
    {
      "cell_type": "markdown",
      "source": [
        "## Part 5: Predictions"
      ],
      "metadata": {
        "id": "dJgIMqIF1pB4"
      }
    },
    {
      "cell_type": "code",
      "source": [
        "# Use model on new data\n",
        "# Assuming you have new data X_new\n",
        "X_new = X_mock.iloc[:5].values  # Convert to NumPy array\n",
        "X_new_scaled = scaler.transform(X_new)\n",
        "predictions = model.predict(X_new_scaled)\n",
        "print(\"Predictions on new data:\", predictions)\n"
      ],
      "metadata": {
        "colab": {
          "base_uri": "https://localhost:8080/"
        },
        "id": "ozSgA5SX6zRK",
        "outputId": "e724ee30-edfe-4d35-8a6b-30d3d09f49bd"
      },
      "execution_count": null,
      "outputs": [
        {
          "output_type": "stream",
          "name": "stdout",
          "text": [
            "Predictions on new data: [0 0 0 0 0]\n"
          ]
        }
      ]
    },
    {
      "cell_type": "code",
      "source": [
        "# Get true labels for the new data\n",
        "y_new_true = y_mock.iloc[:5].values.ravel()\n",
        "\n",
        "# Compare predictions to true labels\n",
        "print(\"True labels:\", y_new_true)\n",
        "print(\"Predictions:\", predictions)\n",
        "\n",
        "# Compute accuracy on the new data\n",
        "from sklearn.metrics import accuracy_score\n",
        "accuracy_new = accuracy_score(y_new_true, predictions)\n",
        "print(f\"Accuracy on new data: {accuracy_new:.2f}\")\n"
      ],
      "metadata": {
        "colab": {
          "base_uri": "https://localhost:8080/"
        },
        "id": "YHobZC687cPh",
        "outputId": "b98a1ed8-37bf-46fe-c421-e25a3418bd6d"
      },
      "execution_count": null,
      "outputs": [
        {
          "output_type": "stream",
          "name": "stdout",
          "text": [
            "True labels: [0 0 1 1 0]\n",
            "Predictions: [0 0 0 0 0]\n",
            "Accuracy on new data: 0.60\n"
          ]
        }
      ]
    },
    {
      "cell_type": "code",
      "source": [
        "# Use model to predict on the entire mock dataset\n",
        "X_mock_array = X_mock.values  # Convert to NumPy array\n",
        "X_mock_scaled = scaler.transform(X_mock_array)\n",
        "predictions_full = model.predict(X_mock_scaled)\n",
        "\n",
        "# Compute accuracy on the full mock dataset\n",
        "accuracy_full = accuracy_score(y_mock.values.ravel(), predictions_full)\n",
        "print(f\"Accuracy of reconstructed model on mock data: {accuracy_full:.2f}\")\n"
      ],
      "metadata": {
        "colab": {
          "base_uri": "https://localhost:8080/"
        },
        "id": "hJpYQAAr7eE2",
        "outputId": "cc1cbfb6-3655-4f3f-a093-b9ec5c3a8e82"
      },
      "execution_count": null,
      "outputs": [
        {
          "output_type": "stream",
          "name": "stdout",
          "text": [
            "Accuracy of reconstructed model on mock data: 0.51\n"
          ]
        }
      ]
    },
    {
      "cell_type": "code",
      "source": [
        "pip install matplotlib"
      ],
      "metadata": {
        "colab": {
          "base_uri": "https://localhost:8080/"
        },
        "id": "W83u65z6SFL5",
        "outputId": "be1b7b11-de0f-4aae-bc05-9fe055623a09"
      },
      "execution_count": null,
      "outputs": [
        {
          "output_type": "stream",
          "name": "stdout",
          "text": [
            "Requirement already satisfied: matplotlib in /usr/local/lib/python3.10/dist-packages (3.7.1)\n",
            "Requirement already satisfied: contourpy>=1.0.1 in /usr/local/lib/python3.10/dist-packages (from matplotlib) (1.3.0)\n",
            "Requirement already satisfied: cycler>=0.10 in /usr/local/lib/python3.10/dist-packages (from matplotlib) (0.12.1)\n",
            "Requirement already satisfied: fonttools>=4.22.0 in /usr/local/lib/python3.10/dist-packages (from matplotlib) (4.54.1)\n",
            "Requirement already satisfied: kiwisolver>=1.0.1 in /usr/local/lib/python3.10/dist-packages (from matplotlib) (1.4.7)\n",
            "Requirement already satisfied: numpy>=1.20 in /usr/local/lib/python3.10/dist-packages (from matplotlib) (1.24.4)\n",
            "Requirement already satisfied: packaging>=20.0 in /usr/local/lib/python3.10/dist-packages (from matplotlib) (24.1)\n",
            "Requirement already satisfied: pillow>=6.2.0 in /usr/local/lib/python3.10/dist-packages (from matplotlib) (10.4.0)\n",
            "Requirement already satisfied: pyparsing>=2.3.1 in /usr/local/lib/python3.10/dist-packages (from matplotlib) (3.2.0)\n",
            "Requirement already satisfied: python-dateutil>=2.7 in /usr/local/lib/python3.10/dist-packages (from matplotlib) (2.8.2)\n",
            "Requirement already satisfied: six>=1.5 in /usr/local/lib/python3.10/dist-packages (from python-dateutil>=2.7->matplotlib) (1.16.0)\n"
          ]
        }
      ]
    },
    {
      "cell_type": "code",
      "source": [
        "from sklearn.metrics import roc_curve, auc\n",
        "import matplotlib.pyplot as plt\n",
        "\n",
        "# Get probability estimates\n",
        "probs = model.predict_proba(X_mock_scaled)[:, 1]\n",
        "\n",
        "# Compute ROC curve and ROC area\n",
        "fpr, tpr, thresholds = roc_curve(y_mock.values.ravel(), probs)\n",
        "roc_auc = auc(fpr, tpr)\n",
        "\n",
        "# Plot ROC curve\n",
        "plt.figure()\n",
        "plt.plot(fpr, tpr, color='darkorange', lw=2, label=f\"ROC curve (area = {roc_auc:.2f})\")\n",
        "plt.plot([0, 1], [0, 1], color='navy', lw=2, linestyle='--')\n",
        "plt.xlim([0.0, 1.0])\n",
        "plt.ylim([0.0, 1.05])\n",
        "plt.xlabel(\"False Positive Rate\")\n",
        "plt.ylabel(\"True Positive Rate\")\n",
        "plt.title(\"Receiver Operating Characteristic\")\n",
        "plt.legend(loc=\"lower right\")\n",
        "plt.show()\n"
      ],
      "metadata": {
        "colab": {
          "base_uri": "https://localhost:8080/",
          "height": 54
        },
        "id": "X9BiiZbp7l1n",
        "outputId": "c88ac126-14c3-4cc0-a41b-82ef4f553f5e"
      },
      "execution_count": null,
      "outputs": [
        {
          "output_type": "display_data",
          "data": {
            "text/plain": [
              "<Figure size 640x480 with 1 Axes>"
            ],
            "image/png": "[encoded data removed]"
          },
          "metadata": {}
        }
      ]
    }
  ]
}